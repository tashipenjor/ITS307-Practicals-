{
 "cells": [
  {
   "attachments": {
    "image-14.png": {
     "image/png": "[encoded data removed]"
    }
   },
   "cell_type": "markdown",
   "id": "2ff3c6a9",
   "metadata": {},
   "source": [
    "# <center>ITS307 Data Analytics : Autumn Semester 2022</center>\n",
    "\n",
    "# <center>Practical 13</center>\n",
    "\n",
    "# <center>Agglomerative Clustering</center>\n",
    "\n",
    "![image-14.png](attachment:image-14.png)"
   ]
  },
  {
   "cell_type": "markdown",
   "id": "a63863b2",
   "metadata": {},
   "source": [
    "## <font color = blue>0. Learning Objectives\n",
    "\n",
    "Use Agglomerative algorithm to implement unsupervised clustering for iris dataset.\n",
    "\n",
    "By the end of the lab, you should be able to :\n",
    "\n",
    "\n",
    "- Implement Agglomerative clustering on any given dataset.\n",
    "\n",
    "\n",
    "\n"
   ]
  },
  {
   "cell_type": "markdown",
   "id": "3c122557",
   "metadata": {},
   "source": [
    "## <font color = blue>1. Loading Data\n",
    "\n",
    "    - Lets load iris dataset for clustering. Note that you don't have to include target for unsupervised learning.\n",
    "    "
   ]
  },
  {
   "cell_type": "code",
   "execution_count": 1,
   "id": "900bc169",
   "metadata": {},
   "outputs": [],
   "source": [
    "#import libraries first\n",
    "import pandas as pd\n",
    "import numpy as np\n",
    "import matplotlib.pyplot as plt"
   ]
  },
  {
   "cell_type": "code",
   "execution_count": 2,
   "id": "c96d66e7",
   "metadata": {},
   "outputs": [],
   "source": [
    "#Load datasets\n",
    "from sklearn.datasets import load_iris\n",
    "\n",
    "iris = load_iris()\n",
    "\n",
    "df = pd.DataFrame(iris.data, columns = iris.feature_names)\n"
   ]
  },
  {
   "cell_type": "markdown",
   "id": "dcb32e68",
   "metadata": {},
   "source": [
    "## <font color = blue> 2. Data Manipulationa and visualization"
   ]
  },
  {
   "cell_type": "code",
   "execution_count": 3,
   "id": "94b0ad1a",
   "metadata": {},
   "outputs": [],
   "source": [
    "#visualize your data here\n",
    "\n",
    "df.drop(['sepal length (cm)','sepal width (cm)'], axis = 1, inplace = True)\n",
    "\n"
   ]
  },
  {
   "cell_type": "code",
   "execution_count": 4,
   "id": "594180cc",
   "metadata": {},
   "outputs": [
    {
     "data": {
      "image/png": "[encoded data removed]",
      "text/plain": [
       "<Figure size 432x288 with 1 Axes>"
      ]
     },
     "metadata": {
      "needs_background": "light"
     },
     "output_type": "display_data"
    }
   ],
   "source": [
    "x = df['petal length (cm)']\n",
    "y = df['petal width (cm)']\n",
    "\n",
    "plt.scatter(x,y)\n",
    "plt.show()"
   ]
  },
  {
   "cell_type": "code",
   "execution_count": 16,
   "id": "112f3069",
   "metadata": {},
   "outputs": [
    {
     "data": {
      "image/png": "[encoded data removed]",
      "text/plain": [
       "<Figure size 432x288 with 1 Axes>"
      ]
     },
     "metadata": {
      "needs_background": "light"
     },
     "output_type": "display_data"
    }
   ],
   "source": [
    "from sklearn.cluster import AgglomerativeClustering\n",
    "from scipy.cluster.hierarchy import linkage\n",
    "from scipy.cluster.hierarchy import dendrogram\n",
    "\n",
    "Z = linkage(df, 'ward')\n",
    "dendrogram(Z, labels=df.index, leaf_rotation=90)\n",
    "plt.show()"
   ]
  },
  {
   "cell_type": "markdown",
   "id": "8e98be15",
   "metadata": {},
   "source": [
    "## <font color = blue> 3. Use dendogram to choose optimal number of clusters"
   ]
  },
  {
   "cell_type": "code",
   "execution_count": 60,
   "id": "db137e92",
   "metadata": {},
   "outputs": [],
   "source": [
    "#train your model here\n",
    "from sklearn.cluster import AgglomerativeClustering\n",
    "\n",
    "ag = AgglomerativeClustering(n_clusters=2, linkage='ward')\n"
   ]
  },
  {
   "cell_type": "markdown",
   "id": "ba88525c",
   "metadata": {},
   "source": [
    "## <font color = blue> 4. Train model and Explore Agglomerative attributes"
   ]
  },
  {
   "cell_type": "code",
   "execution_count": 72,
   "id": "25d93431",
   "metadata": {},
   "outputs": [],
   "source": [
    "model = ag.fit(df)\n"
   ]
  },
  {
   "cell_type": "code",
   "execution_count": 73,
   "id": "faef5c87",
   "metadata": {},
   "outputs": [
    {
     "data": {
      "text/plain": [
       "2"
      ]
     },
     "execution_count": 73,
     "metadata": {},
     "output_type": "execute_result"
    }
   ],
   "source": [
    "#check algorithm's attribute\n",
    "model.n_clusters_\n"
   ]
  },
  {
   "cell_type": "code",
   "execution_count": 74,
   "id": "eadd8c0d",
   "metadata": {},
   "outputs": [
    {
     "data": {
      "text/plain": [
       "array([1, 1, 1, 1, 1, 1, 1, 1, 1, 1, 1, 1, 1, 1, 1, 1, 1, 1, 1, 1, 1, 1,\n",
       "       1, 1, 1, 1, 1, 1, 1, 1, 1, 1, 1, 1, 1, 1, 1, 1, 1, 1, 1, 1, 1, 1,\n",
       "       1, 1, 1, 1, 1, 1, 0, 0, 0, 0, 0, 0, 0, 0, 0, 0, 0, 0, 0, 0, 0, 0,\n",
       "       0, 0, 0, 0, 0, 0, 0, 0, 0, 0, 0, 0, 0, 0, 0, 0, 0, 0, 0, 0, 0, 0,\n",
       "       0, 0, 0, 0, 0, 0, 0, 0, 0, 0, 0, 0, 0, 0, 0, 0, 0, 0, 0, 0, 0, 0,\n",
       "       0, 0, 0, 0, 0, 0, 0, 0, 0, 0, 0, 0, 0, 0, 0, 0, 0, 0, 0, 0, 0, 0,\n",
       "       0, 0, 0, 0, 0, 0, 0, 0, 0, 0, 0, 0, 0, 0, 0, 0, 0, 0], dtype=int64)"
      ]
     },
     "execution_count": 74,
     "metadata": {},
     "output_type": "execute_result"
    }
   ],
   "source": [
    "model.labels_"
   ]
  },
  {
   "cell_type": "code",
   "execution_count": 75,
   "id": "d09a9732",
   "metadata": {},
   "outputs": [
    {
     "data": {
      "text/plain": [
       "150"
      ]
     },
     "execution_count": 75,
     "metadata": {},
     "output_type": "execute_result"
    }
   ],
   "source": [
    "model.n_leaves_"
   ]
  },
  {
   "cell_type": "code",
   "execution_count": null,
   "id": "adb25427",
   "metadata": {},
   "outputs": [],
   "source": []
  },
  {
   "cell_type": "markdown",
   "id": "808bbe15",
   "metadata": {},
   "source": [
    "## <font color = blue> 5. Prediction"
   ]
  },
  {
   "cell_type": "code",
   "execution_count": 84,
   "id": "24d34e73",
   "metadata": {},
   "outputs": [
    {
     "data": {
      "text/plain": [
       "array([1, 1, 1, 1, 1, 1, 1, 1, 1, 1, 1, 1, 1, 1, 1, 1, 1, 1, 1, 1, 1, 1,\n",
       "       1, 1, 1, 1, 1, 1, 1, 1, 1, 1, 1, 1, 1, 1, 1, 1, 1, 1, 1, 1, 1, 1,\n",
       "       1, 1, 1, 1, 1, 1, 0, 0, 0, 0, 0, 0, 0, 0, 0, 0, 0, 0, 0, 0, 0, 0,\n",
       "       0, 0, 0, 0, 0, 0, 0, 0, 0, 0, 0, 0, 0, 0, 0, 0, 0, 0, 0, 0, 0, 0,\n",
       "       0, 0, 0, 0, 0, 0, 0, 0, 0, 0, 0, 0, 0, 0, 0, 0, 0, 0, 0, 0, 0, 0,\n",
       "       0, 0, 0, 0, 0, 0, 0, 0, 0, 0, 0, 0, 0, 0, 0, 0, 0, 0, 0, 0, 0, 0,\n",
       "       0, 0, 0, 0, 0, 0, 0, 0, 0, 0, 0, 0, 0, 0, 0, 0, 0, 0], dtype=int64)"
      ]
     },
     "execution_count": 84,
     "metadata": {},
     "output_type": "execute_result"
    }
   ],
   "source": [
    "#create sample data to make prediction. Interpret your output for unsupervised clustering\n",
    "model1 = ag.fit_predict(df)\n",
    "model1"
   ]
  },
  {
   "cell_type": "code",
   "execution_count": 82,
   "id": "9bbd822d",
   "metadata": {},
   "outputs": [],
   "source": []
  },
  {
   "cell_type": "markdown",
   "id": "61039dae",
   "metadata": {},
   "source": [
    "## <font color = blue> 6. Plot clusters formed by Agglomerative clustering algorithm."
   ]
  },
  {
   "cell_type": "code",
   "execution_count": 69,
   "id": "96f92e51",
   "metadata": {},
   "outputs": [
    {
     "data": {
      "image/png": "[encoded data removed]",
      "text/plain": [
       "<Figure size 432x288 with 1 Axes>"
      ]
     },
     "metadata": {
      "needs_background": "light"
     },
     "output_type": "display_data"
    }
   ],
   "source": [
    "#plot here\n",
    "colors = np.array(['blue','red',])\n",
    "# kmean = kmeans.predict(X)\n",
    "plt.scatter(x, y, c = colors[model], s=50)\n",
    "plt.xlabel('petal length (cm)')\n",
    "plt.ylabel('petal width (cm)')\n",
    "plt.show()"
   ]
  },
  {
   "cell_type": "code",
   "execution_count": 87,
   "id": "5557ed08",
   "metadata": {},
   "outputs": [
    {
     "data": {
      "text/plain": [
       "0.7669465622770762"
      ]
     },
     "execution_count": 87,
     "metadata": {},
     "output_type": "execute_result"
    }
   ],
   "source": [
    "from sklearn.metrics import silhouette_score\n",
    "score = silhouette_score(df,model1)\n",
    "score"
   ]
  },
  {
   "cell_type": "markdown",
   "id": "6ead7f4c",
   "metadata": {},
   "source": [
    "## <font color = blue> 7. Evaluate Model"
   ]
  },
  {
   "cell_type": "markdown",
   "id": "ce9701bc",
   "metadata": {},
   "source": [
    "# TODO\n",
    "\n",
    "- Use wine datasets to implement Agglomerative clustering on multi-dimensional data. \n",
    "\n",
    "\n",
    "- Find optimal clusters"
   ]
  },
  {
   "cell_type": "code",
   "execution_count": 89,
   "id": "2a711b22",
   "metadata": {},
   "outputs": [],
   "source": [
    "data = pd.read_csv('winequality.csv')\n",
    "data\n",
    "ncols = data.select_dtypes(['float64', 'int64'])"
   ]
  },
  {
   "cell_type": "code",
   "execution_count": 97,
   "id": "b8be9f5d",
   "metadata": {},
   "outputs": [
    {
     "data": {
      "image/png": "[encoded data removed]",
      "text/plain": [
       "<Figure size 432x288 with 1 Axes>"
      ]
     },
     "metadata": {
      "needs_background": "light"
     },
     "output_type": "display_data"
    }
   ],
   "source": [
    "y = linkage(ncols, 'ward')\n",
    "dendrogram(y, labels=ncols.index, leaf_rotation=90)\n",
    "plt.show()"
   ]
  },
  {
   "cell_type": "code",
   "execution_count": 98,
   "id": "8980b5ab",
   "metadata": {},
   "outputs": [],
   "source": [
    "agg = AgglomerativeClustering(n_clusters=2, linkage='ward')"
   ]
  },
  {
   "cell_type": "code",
   "execution_count": 99,
   "id": "af236e50",
   "metadata": {},
   "outputs": [
    {
     "data": {
      "text/plain": [
       "array([1, 0, 1, ..., 1, 0, 1], dtype=int64)"
      ]
     },
     "execution_count": 99,
     "metadata": {},
     "output_type": "execute_result"
    }
   ],
   "source": [
    "label = agg.fit(ncols)\n",
    "label1 = agg.fit_predict(ncols)\n",
    "label1"
   ]
  },
  {
   "cell_type": "code",
   "execution_count": 100,
   "id": "37f36d7d",
   "metadata": {},
   "outputs": [
    {
     "data": {
      "text/plain": [
       "0.5729085214963371"
      ]
     },
     "execution_count": 100,
     "metadata": {},
     "output_type": "execute_result"
    }
   ],
   "source": [
    "silscore = silhouette_score(ncols,label1)\n",
    "silscore"
   ]
  },
  {
   "cell_type": "code",
   "execution_count": null,
   "id": "6e7843e0",
   "metadata": {},
   "outputs": [],
   "source": []
  }
 ],
 "metadata": {
  "kernelspec": {
   "display_name": "Python 3 (ipykernel)",
   "language": "python",
   "name": "python3"
  },
  "language_info": {
   "codemirror_mode": {
    "name": "ipython",
    "version": 3
   },
   "file_extension": ".py",
   "mimetype": "text/x-python",
   "name": "python",
   "nbconvert_exporter": "python",
   "pygments_lexer": "ipython3",
   "version": "3.9.12"
  }
 },
 "nbformat": 4,
 "nbformat_minor": 5
}
